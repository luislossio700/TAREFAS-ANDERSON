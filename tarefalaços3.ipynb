{
  "nbformat": 4,
  "nbformat_minor": 0,
  "metadata": {
    "colab": {
      "provenance": [],
      "authorship_tag": "ABX9TyNRpDMeVGcExhCjwneW3mWQ",
      "include_colab_link": true
    },
    "kernelspec": {
      "name": "python3",
      "display_name": "Python 3"
    },
    "language_info": {
      "name": "python"
    }
  },
  "cells": [
    {
      "cell_type": "markdown",
      "metadata": {
        "id": "view-in-github",
        "colab_type": "text"
      },
      "source": [
        "<a href=\"https://colab.research.google.com/github/luislossio700/TAREFAS-ANDERSON/blob/main/tarefala%C3%A7os3.ipynb\" target=\"_parent\"><img src=\"https://colab.research.google.com/assets/colab-badge.svg\" alt=\"Open In Colab\"/></a>"
      ]
    },
    {
      "cell_type": "markdown",
      "source": [
        "#Tarefa Laços de Repetição\n",
        "# 11/03/2023"
      ],
      "metadata": {
        "id": "sfRxmMynaVIg"
      }
    },
    {
      "cell_type": "code",
      "execution_count": 72,
      "metadata": {
        "id": "PfE5W_OLJpmI",
        "outputId": "bcf11099-6204-4508-9483-666728acd93c",
        "colab": {
          "base_uri": "https://localhost:8080/"
        }
      },
      "outputs": [
        {
          "output_type": "stream",
          "name": "stdout",
          "text": [
            "Digite o primeiro valor: 2\n",
            "Digite o último valor: 8\n",
            "2\n",
            "3\n",
            "4\n",
            "5\n",
            "6\n",
            "7\n",
            "8\n"
          ]
        }
      ],
      "source": [
        "primeiro = int(input(\"Digite o primeiro valor: \"))\n",
        "ultimo = int(input(\"Digite o último valor: \"))\n",
        "\n",
        "if ultimo < primeiro:\n",
        "    for i in range(primeiro, ultimo-1, -1):\n",
        "        print(i)\n",
        "else:\n",
        "    for i in range(primeiro, ultimo+1):\n",
        "        print(i)\n",
        "        "
      ]
    },
    {
      "cell_type": "code",
      "source": [
        "valor = int(input(\"Digite um valor inteiro entre 1 e 10: \"))\n",
        "while valor < 1 or valor > 10:\n",
        "    valor = int(input(\"Valor inválido! Digite um valor inteiro entre 1 e 10: \"))\n",
        "\n",
        "\n",
        "for i in range(1, 11):\n",
        "    print(f\"{valor} x {i} = {valor*i}\")"
      ],
      "metadata": {
        "id": "bahNNRiNbN2f",
        "outputId": "5bf5714a-016f-4b84-ed8f-c33ed8f8b23f",
        "colab": {
          "base_uri": "https://localhost:8080/"
        }
      },
      "execution_count": 74,
      "outputs": [
        {
          "output_type": "stream",
          "name": "stdout",
          "text": [
            "Digite um valor inteiro entre 1 e 10: 8\n",
            "8 x 1 = 8\n",
            "8 x 2 = 16\n",
            "8 x 3 = 24\n",
            "8 x 4 = 32\n",
            "8 x 5 = 40\n",
            "8 x 6 = 48\n",
            "8 x 7 = 56\n",
            "8 x 8 = 64\n",
            "8 x 9 = 72\n",
            "8 x 10 = 80\n"
          ]
        }
      ]
    },
    {
      "cell_type": "code",
      "source": [
        "import random\n",
        "\n",
        "numero_secreto = random.randint(1, 100)\n",
        "\n",
        "while True:\n",
        "    numero = int(input(\"Tente adivinhar o número secreto (entre 1 e 100): \"))\n",
        "    \n",
        "    if numero == numero_secreto:\n",
        "        print(\"Parabéns, você acertou!\")\n",
        "        break\n",
        "    elif numero < numero_secreto:\n",
        "        print(\"O número é maior, tente novamente.\")\n",
        "    else:\n",
        "        print(\"O número é menor, tente novamente.\")"
      ],
      "metadata": {
        "id": "c1esXXRWap2Y",
        "outputId": "54050289-d6aa-4ab0-fc4d-3423798ed8a0",
        "colab": {
          "base_uri": "https://localhost:8080/"
        }
      },
      "execution_count": 73,
      "outputs": [
        {
          "output_type": "stream",
          "name": "stdout",
          "text": [
            "Tente adivinhar o número secreto (entre 1 e 100): 70\n",
            "O número é menor, tente novamente.\n",
            "Tente adivinhar o número secreto (entre 1 e 100): 60\n",
            "O número é menor, tente novamente.\n",
            "Tente adivinhar o número secreto (entre 1 e 100): 50\n",
            "O número é menor, tente novamente.\n",
            "Tente adivinhar o número secreto (entre 1 e 100): 40\n",
            "O número é menor, tente novamente.\n",
            "Tente adivinhar o número secreto (entre 1 e 100): 30\n",
            "O número é maior, tente novamente.\n",
            "Tente adivinhar o número secreto (entre 1 e 100): 32\n",
            "O número é maior, tente novamente.\n",
            "Tente adivinhar o número secreto (entre 1 e 100): 35\n",
            "O número é menor, tente novamente.\n",
            "Tente adivinhar o número secreto (entre 1 e 100): 34\n",
            "Parabéns, você acertou!\n"
          ]
        }
      ]
    },
    {
      "cell_type": "code",
      "source": [
        "soma = 0 \n",
        "while True:\n",
        "    num = int(input(\"Digite um número inteiro (digite um número negativo para encerrar): \"))\n",
        "    if num < 0:\n",
        "        break  \n",
        "    soma += num \n",
        "print(\"A soma dos números digitados é:\", soma)"
      ],
      "metadata": {
        "id": "nhSlJL5TbHCX",
        "outputId": "b8fb2b1b-e44d-4cc5-9289-0dd6f23b70ae",
        "colab": {
          "base_uri": "https://localhost:8080/"
        }
      },
      "execution_count": 76,
      "outputs": [
        {
          "output_type": "stream",
          "name": "stdout",
          "text": [
            "Digite um número inteiro (digite um número negativo para encerrar): 5\n",
            "Digite um número inteiro (digite um número negativo para encerrar): -2\n",
            "A soma dos números digitados é: 5\n"
          ]
        }
      ]
    },
    {
      "cell_type": "code",
      "source": [
        "import random\n",
        "\n",
        "num_jogadas = int(input(\"Digite o número de vezes que você quer jogar a moeda: \"))\n",
        "\n",
        "num_caras = 0\n",
        "num_coroas = 0\n",
        "\n",
        "for i in range(num_jogadas):\n",
        "    resultado = random.randint(0, 1)\n",
        "    if resultado == 0:\n",
        "        print(\"Cara\")\n",
        "        num_caras += 1\n",
        "    else:\n",
        "        print(\"Coroa\")\n",
        "        num_coroas += 1\n",
        "\n",
        "print(\"Número total de caras: \", num_caras)\n",
        "print(\"Número total de coroas: \", num_coroas)"
      ],
      "metadata": {
        "id": "imxQsIs3bnOn",
        "outputId": "1bedf20c-bc44-492e-a3ce-011039933961",
        "colab": {
          "base_uri": "https://localhost:8080/"
        }
      },
      "execution_count": 77,
      "outputs": [
        {
          "output_type": "stream",
          "name": "stdout",
          "text": [
            "Digite o número de vezes que você quer jogar a moeda: 3\n",
            "Cara\n",
            "Coroa\n",
            "Coroa\n",
            "Número total de caras:  1\n",
            "Número total de coroas:  2\n"
          ]
        }
      ]
    },
    {
      "cell_type": "code",
      "source": [
        "candidatos = {\n",
        "    1: {\"nome\": \"luis lossio\", \"votos\": 0},\n",
        "    2: {\"nome\": \"andre gustavo\", \"votos\": 0},\n",
        "    3: {\"nome\": \"gustavo melo\", \"votos\": 0},\n",
        "}\n",
        "\n",
        "votos_nulos = 0\n",
        "votos_brancos = 0\n",
        "\n",
        "print(\"As opcoes sao:\")\n",
        "for key, value in candidatos.items():\n",
        "    print(f\"{key}. {value['nome']}\")\n",
        "\n",
        "while True:\n",
        "    voto = int(input(\"Entre com o seu voto: \"))\n",
        "    \n",
        "    if voto == 4:\n",
        "        votos_nulos += 1\n",
        "    elif voto == 5:\n",
        "        votos_brancos += 1\n",
        "    elif voto == 6:\n",
        "        break\n",
        "    elif voto in candidatos:\n",
        "        candidatos[voto][\"votos\"] += 1\n",
        "    else:\n",
        "        print(\"Opcao invalida!\")\n",
        "    \n",
        "total_votos = sum([candidatos[c][\"votos\"] for c in candidatos])\n",
        "total_votos_validos = total_votos + votos_nulos + votos_brancos\n",
        "\n",
        "print(f\"\\nNumero de votos de cada candidato:\")\n",
        "for key, value in candidatos.items():\n",
        "    print(f\"{value['nome']}: {value['votos']} votos\")\n",
        "    \n",
        "percent_nulos = votos_nulos / total_votos_validos * 100\n",
        "percent_brancos = votos_brancos / total_votos_validos * 100\n",
        "\n",
        "print(f\"\\nPorcentagem de votos nulos: {percent_nulos:.2f}%\")\n",
        "print(f\"Porcentagem de votos brancos: {percent_brancos:.2f}%\")\n",
        "\n",
        "vencedor = max(candidatos, key=lambda c: candidatos[c][\"votos\"])\n",
        "print(f\"\\nCandidato vencedor: {candidatos[vencedor]['nome']}\")"
      ],
      "metadata": {
        "id": "IOgz1DvCbnbH",
        "outputId": "440fd336-5c9f-4cf5-9b21-1a6d8d3847eb",
        "colab": {
          "base_uri": "https://localhost:8080/"
        }
      },
      "execution_count": 81,
      "outputs": [
        {
          "output_type": "stream",
          "name": "stdout",
          "text": [
            "As opcoes sao:\n",
            "1. luis lossio\n",
            "2. andre gustavo\n",
            "3. gustavo melo\n",
            "Entre com o seu voto: 10\n",
            "Opcao invalida!\n",
            "Entre com o seu voto: 10\n",
            "Opcao invalida!\n",
            "Entre com o seu voto: 10\n",
            "Opcao invalida!\n",
            "Entre com o seu voto: 10\n",
            "Opcao invalida!\n",
            "Entre com o seu voto: 9\n",
            "Opcao invalida!\n",
            "Entre com o seu voto: 5\n",
            "Entre com o seu voto: 4\n",
            "Entre com o seu voto: 6\n",
            "\n",
            "Numero de votos de cada candidato:\n",
            "luis lossio: 0 votos\n",
            "andre gustavo: 0 votos\n",
            "gustavo melo: 0 votos\n",
            "\n",
            "Porcentagem de votos nulos: 50.00%\n",
            "Porcentagem de votos brancos: 50.00%\n",
            "\n",
            "Candidato vencedor: luis lossio\n"
          ]
        }
      ]
    },
    {
      "cell_type": "code",
      "source": [
        "# solicita ao usuário um número inteiro positivo\n",
        "numero = int(input(\"Digite um número inteiro positivo: \"))\n",
        "\n",
        "# inicializa a variável fatorial com o valor 1\n",
        "fatorial = 1\n",
        "\n",
        "# calcula o fatorial do número\n",
        "for i in range(1, numero + 1):\n",
        "    fatorial *= i\n",
        "\n",
        "# exibe o resultado\n",
        "print(\"O fatorial de\", numero, \"é\", fatorial)"
      ],
      "metadata": {
        "id": "q2Yxpa3hbni_",
        "outputId": "39a40625-dd5b-48c8-f986-1f90e9fa2db6",
        "colab": {
          "base_uri": "https://localhost:8080/"
        }
      },
      "execution_count": 84,
      "outputs": [
        {
          "output_type": "stream",
          "name": "stdout",
          "text": [
            "Digite um número inteiro positivo: 4\n",
            "O fatorial de 4 é 24\n"
          ]
        }
      ]
    },
    {
      "cell_type": "code",
      "source": [],
      "metadata": {
        "id": "3VNeStHibnrH"
      },
      "execution_count": null,
      "outputs": []
    }
  ]
}
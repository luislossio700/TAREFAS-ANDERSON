{
  "nbformat": 4,
  "nbformat_minor": 0,
  "metadata": {
    "colab": {
      "provenance": [],
      "authorship_tag": "ABX9TyMzTJO9JhVciqXHGbeyp16m",
      "include_colab_link": true
    },
    "kernelspec": {
      "name": "python3",
      "display_name": "Python 3"
    },
    "language_info": {
      "name": "python"
    }
  },
  "cells": [
    {
      "cell_type": "markdown",
      "metadata": {
        "id": "view-in-github",
        "colab_type": "text"
      },
      "source": [
        "<a href=\"https://colab.research.google.com/github/luislossio700/TAREFAS-ANDERSON/blob/main/tarefa2.ipynb\" target=\"_parent\"><img src=\"https://colab.research.google.com/assets/colab-badge.svg\" alt=\"Open In Colab\"/></a>"
      ]
    },
    {
      "cell_type": "markdown",
      "source": [
        "# Tarefa And e Or\n",
        "# 15/02/2023"
      ],
      "metadata": {
        "id": "QshGsYwYXimR"
      }
    },
    {
      "cell_type": "code",
      "execution_count": 63,
      "metadata": {
        "id": "PfE5W_OLJpmI",
        "outputId": "af9858e5-87ab-462f-9527-fac071366187",
        "colab": {
          "base_uri": "https://localhost:8080/"
        }
      },
      "outputs": [
        {
          "output_type": "stream",
          "name": "stdout",
          "text": [
            "Digite o primeiro número: 3\n",
            "Digite o segundo número: 4\n",
            "Digite o terceiro número: 5\n",
            "Nenhum dos números é maior que a soma dos outros dois.\n"
          ]
        }
      ],
      "source": [
        "num1 = float(input(\"Digite o primeiro número: \"))\n",
        "num2 = float(input(\"Digite o segundo número: \"))\n",
        "num3 = float(input(\"Digite o terceiro número: \"))\n",
        "\n",
        "if num1 > num2 + num3:\n",
        "    print(num1, \"é maior que a soma de\", num2, \"e\", num3)\n",
        "elif num2 > num1 + num3:\n",
        "    print(num2, \"é maior que a soma de\", num1, \"e\", num3)\n",
        "elif num3 > num1 + num2:\n",
        "    print(num3, \"é maior que a soma de\", num1, \"e\", num2)\n",
        "else:\n",
        "    print(\"Nenhum dos números é maior que a soma dos outros dois.\")"
      ]
    },
    {
      "cell_type": "code",
      "source": [
        "\n",
        "nota1 = float(input(\"Insira a primeira nota (entre 0 e 100): \"))\n",
        "nota2 = float(input(\"Insira a segunda nota (entre 0 e 100): \"))\n",
        "\n",
        "if nota1 < 0 or nota1 > 100 or nota2 < 0 or nota2 > 100:\n",
        "    print(\"Notas inválidas! Insira valores entre 0 e 100.\")\n",
        "else:\n",
        "    \n",
        "    media = (nota1 + nota2) / 2\n",
        "    if media >= 60 and nota1 >= 40 and nota2 >= 40:\n",
        "        print(\"Parabéns, você passou!\")\n",
        "    else:\n",
        "        print(\"Infelizmente, você não passou.\")"
      ],
      "metadata": {
        "id": "CPA3cd3dX69_",
        "outputId": "ebd129d8-df68-4aa0-fb2a-001684796699",
        "colab": {
          "base_uri": "https://localhost:8080/"
        }
      },
      "execution_count": 65,
      "outputs": [
        {
          "output_type": "stream",
          "name": "stdout",
          "text": [
            "Insira a primeira nota (entre 0 e 100): 80\n",
            "Insira a segunda nota (entre 0 e 100): 70\n",
            "Parabéns, você passou!\n"
          ]
        }
      ]
    },
    {
      "cell_type": "code",
      "source": [
        "idade = int(input(\"Qual é a sua idade? \"))\n",
        "autorizacao_pais = input(\"Você tem autorização dos pais? (s/n) \").lower() == \"s\"\n",
        "\n",
        "if idade >= 18 or autorizacao_pais:\n",
        "    print(\"Você pode participar.\")\n",
        "else:\n",
        "    print(\"Você não pode participar.\")\n",
        "    "
      ],
      "metadata": {
        "id": "CxTC9RrIX7ev",
        "outputId": "9905ca01-5762-4f53-bbdc-2473905838f8",
        "colab": {
          "base_uri": "https://localhost:8080/"
        }
      },
      "execution_count": 66,
      "outputs": [
        {
          "output_type": "stream",
          "name": "stdout",
          "text": [
            "Qual é a sua idade? 20\n",
            "Você tem autorização dos pais? (s/n) S\n",
            "Você pode participar.\n"
          ]
        }
      ]
    },
    {
      "cell_type": "code",
      "source": [
        "num = int(input(\"Digite um número: \"))\n",
        "\n",
        "if num % 2 == 0:\n",
        "    print(num, \"é par.\")\n",
        "else:\n",
        "    print(num, \"é ímpar.\")\n",
        "    \n",
        "if num % 3 == 0:\n",
        "    print(num, \"é divisível por 3.\")\n",
        "else:\n",
        "    print(num, \"não é divisível por 3.\")"
      ],
      "metadata": {
        "id": "MEc_gnwiX7hn",
        "outputId": "046b35c5-c868-4800-e955-4362994c1b1e",
        "colab": {
          "base_uri": "https://localhost:8080/"
        }
      },
      "execution_count": 67,
      "outputs": [
        {
          "output_type": "stream",
          "name": "stdout",
          "text": [
            "Digite um número: 10\n",
            "10 é par.\n",
            "10 não é divisível por 3.\n"
          ]
        }
      ]
    },
    {
      "cell_type": "code",
      "source": [
        "idade = int(input(\"Digite sua idade: \"))\n",
        "alfabetizado = input(\"Você é alfabetizado? (s/n) \").lower()\n",
        "\n",
        "if idade > 25 and alfabetizado == \"s\":\n",
        "    print(\"Você é alfabetizado e tem mais de 25 anos!\")\n",
        "else:\n",
        "    print(\"Você não atende aos critérios de alfabetização e/ou idade.\")"
      ],
      "metadata": {
        "id": "37M92lhVX7j_",
        "outputId": "88bf599a-98e3-4947-cbaa-baaaa446d64a",
        "colab": {
          "base_uri": "https://localhost:8080/"
        }
      },
      "execution_count": 70,
      "outputs": [
        {
          "output_type": "stream",
          "name": "stdout",
          "text": [
            "Digite sua idade: 20\n",
            "Você é alfabetizado? (s/n) s\n",
            "Você não atende aos critérios de alfabetização e/ou idade.\n"
          ]
        }
      ]
    },
    {
      "cell_type": "code",
      "source": [
        "from datetime import date\n",
        "\n",
        "\n",
        "idade = int(input(\"Digite a sua idade: \"))\n",
        "categoria = input(\"Digite a sua categoria (estudante, aposentado, etc.): \")\n",
        "dia_da_semana = date.today().weekday() \n",
        "\n",
        "if idade >= 60:\n",
        "    tem_desconto = True\n",
        "elif categoria == \"estudante\" and dia_da_semana in [0, 1, 2]:\n",
        "    tem_desconto = True\n",
        "elif categoria == \"aposentado\":\n",
        "    tem_desconto = True\n",
        "\n",
        "\n",
        "if tem_desconto:\n",
        "    print(\"Você tem direito a desconto!\")\n",
        "else:\n",
        "    print(\"Você não tem direito a desconto.\")"
      ],
      "metadata": {
        "id": "xII8Pe2sX7rX",
        "outputId": "97a604f0-7ea0-4f4b-b944-16268fe7b9f4",
        "colab": {
          "base_uri": "https://localhost:8080/"
        }
      },
      "execution_count": 71,
      "outputs": [
        {
          "output_type": "stream",
          "name": "stdout",
          "text": [
            "Digite a sua idade: 20\n",
            "Digite a sua categoria (estudante, aposentado, etc.): estudante\n",
            "Você tem direito a desconto!\n"
          ]
        }
      ]
    }
  ]
}
{
  "nbformat": 4,
  "nbformat_minor": 0,
  "metadata": {
    "colab": {
      "provenance": [],
      "authorship_tag": "ABX9TyMR2evUmY19RUHQtZmT4a80",
      "include_colab_link": true
    },
    "kernelspec": {
      "name": "python3",
      "display_name": "Python 3"
    },
    "language_info": {
      "name": "python"
    }
  },
  "cells": [
    {
      "cell_type": "markdown",
      "metadata": {
        "id": "view-in-github",
        "colab_type": "text"
      },
      "source": [
        "<a href=\"https://colab.research.google.com/github/luislossio700/TAREFAS-ANDERSON/blob/main/Tarefa1.ipynb\" target=\"_parent\"><img src=\"https://colab.research.google.com/assets/colab-badge.svg\" alt=\"Open In Colab\"/></a>"
      ]
    },
    {
      "cell_type": "markdown",
      "source": [
        "# Tarefa 1\n",
        "# 04/02/2023"
      ],
      "metadata": {
        "id": "2inNjlzRKj9S"
      }
    },
    {
      "cell_type": "code",
      "execution_count": 1,
      "metadata": {
        "id": "PfE5W_OLJpmI",
        "outputId": "f5e16479-70e1-4197-9f65-c7f6cdccf470",
        "colab": {
          "base_uri": "https://localhost:8080/"
        }
      },
      "outputs": [
        {
          "output_type": "stream",
          "name": "stdout",
          "text": [
            "Digite a primeira nota: 8\n",
            "Digite a segunda nota: 5\n",
            "Digite a terceira nota: 6\n",
            "Digite a média dos exercícios: 5\n",
            "Média de Aproveitamento: 5.9\n",
            "Conceito: D\n"
          ]
        }
      ],
      "source": [
        "nota1 = float(input(\"Digite a primeira nota: \"))\n",
        "nota2 = float(input(\"Digite a segunda nota: \"))\n",
        "nota3 = float(input(\"Digite a terceira nota: \"))\n",
        "media_exercicios = float(input(\"Digite a média dos exercícios: \"))\n",
        "\n",
        "ma = (nota1 + nota2*2 + nota3*3 + media_exercicios)/7\n",
        "\n",
        "if ma >= 9:\n",
        "    conceito = \"A\"\n",
        "elif ma >= 7.5:\n",
        "    conceito = \"B\"\n",
        "elif ma >= 6:\n",
        "    conceito = \"C\"\n",
        "elif ma >= 4:\n",
        "    conceito = \"D\"\n",
        "else:\n",
        "    conceito = \"E\"\n",
        "\n",
        "print(\"Média de Aproveitamento: {:.1f}\".format(ma))\n",
        "print(\"Conceito: {}\".format(conceito))"
      ]
    },
    {
      "cell_type": "code",
      "source": [
        "nome = input(\"Digite o seu nome: \")\n",
        "endereco = input(\"Digite o seu endereço: \")\n",
        "cep = input(\"Digite o seu CEP: \")\n",
        "telefone = input(\"Digite o seu telefone: \")\n",
        "\n",
        "\n",
        "print(nome)\n",
        "print(endereco)\n",
        "print(cep + \" \" + telefone)"
      ],
      "metadata": {
        "id": "kv9g-i6SLCg6",
        "outputId": "fe8f3da9-ec0e-4b15-ae7d-06bbe6722caf",
        "colab": {
          "base_uri": "https://localhost:8080/"
        }
      },
      "execution_count": 2,
      "outputs": [
        {
          "output_type": "stream",
          "name": "stdout",
          "text": [
            "Digite o seu nome: luis \n",
            "Digite o seu endereço: vila são geraldo\n",
            "Digite o seu CEP: 1204271\n",
            "Digite o seu telefone: 40028922\n",
            "luis \n",
            "vila são geraldo\n",
            "1204271 40028922\n"
          ]
        }
      ]
    },
    {
      "cell_type": "code",
      "source": [
        "print(\"XXXXX\")\n",
        "print(\"X   X\")\n",
        "print(\"X   X\")\n",
        "print(\"X   X\")\n",
        "print(\"XXXXX\")"
      ],
      "metadata": {
        "id": "HCFtPf7-Mieb",
        "outputId": "eea870ce-dbfd-4be0-97c6-bc2e129755bb",
        "colab": {
          "base_uri": "https://localhost:8080/"
        }
      },
      "execution_count": 3,
      "outputs": [
        {
          "output_type": "stream",
          "name": "stdout",
          "text": [
            "XXXXX\n",
            "X   X\n",
            "X   X\n",
            "X   X\n",
            "XXXXX\n"
          ]
        }
      ]
    },
    {
      "cell_type": "code",
      "source": [
        "nome = input(\"Digite o nome do aluno: \")\n",
        "nota = float(input(\"Digite a nota do aluno: \"))\n",
        "\n",
        "\n",
        "print(\"ALUNO(A)  NOTA\")\n",
        "print(\"=========  =====\")\n",
        "print(\"{:7}  {:.1f}\".format(nome, nota))"
      ],
      "metadata": {
        "id": "_ffVkHPyMkOK",
        "outputId": "8d5bef73-328a-4b6c-bba1-3505cc702309",
        "colab": {
          "base_uri": "https://localhost:8080/"
        }
      },
      "execution_count": 4,
      "outputs": [
        {
          "output_type": "stream",
          "name": "stdout",
          "text": [
            "Digite o nome do aluno: luis\n",
            "Digite a nota do aluno: 10\n",
            "ALUNO(A)  NOTA\n",
            "=========  =====\n",
            "luis     10.0\n"
          ]
        }
      ]
    },
    {
      "cell_type": "code",
      "source": [
        "print(\"Cadastro de Clientes\")\n",
        "print(\"0 - Fim\")\n",
        "print(\"1 - Inclui\")\n",
        "print(\"2 - Altera\")\n",
        "print(\"3 - Exclui\")"
      ],
      "metadata": {
        "id": "XiJiYfMTMkYD",
        "outputId": "b03f3568-511c-4fad-cdf5-9e2b053e3ea1",
        "colab": {
          "base_uri": "https://localhost:8080/"
        }
      },
      "execution_count": 5,
      "outputs": [
        {
          "output_type": "stream",
          "name": "stdout",
          "text": [
            "Cadastro de Clientes\n",
            "0 - Fim\n",
            "1 - Inclui\n",
            "2 - Altera\n",
            "3 - Exclui\n"
          ]
        }
      ]
    },
    {
      "cell_type": "code",
      "source": [
        "print(\"Cadastro de Clientes\")\n",
        "print(\"0 - Fim\")\n",
        "print(\"1 - Inclui\")\n",
        "print(\"2 - Altera\")\n",
        "print(\"3 - Exclui\")\n",
        "\n",
        "opcao = int(input(\"Digite a opção desejada: \"))\n",
        "\n",
        "\n",
        "if opcao == 0:\n",
        "    print(\"Fim\")\n",
        "elif opcao == 1:\n",
        "    print(\"Inclui\")\n",
        "elif opcao == 2:\n",
        "    print(\"Altera\")\n",
        "elif opcao == 3:\n",
        "    print(\"Exclui\")\n",
        "else:\n",
        "    print(\"Item não encontrado\")"
      ],
      "metadata": {
        "id": "GuPm8xr5NRHy",
        "outputId": "a1ec8f32-c68b-4e36-a116-fc1e355c5d00",
        "colab": {
          "base_uri": "https://localhost:8080/"
        }
      },
      "execution_count": 15,
      "outputs": [
        {
          "output_type": "stream",
          "name": "stdout",
          "text": [
            "Cadastro de Clientes\n",
            "0 - Fim\n",
            "1 - Inclui\n",
            "2 - Altera\n",
            "3 - Exclui\n",
            "Digite a opção desejada: 2\n",
            "Altera\n"
          ]
        }
      ]
    },
    {
      "cell_type": "code",
      "source": [
        "x = int(input(\"Digite o valor de X: \"))\n",
        "\n",
        "\n",
        "for i in range(1, x + 1, 2):\n",
        "    print(\" \" * ((x - i) // 2) + \"X\" * i)\n",
        "\n",
        "print(\" \" * ((x - 2) // 2) + \"XX\")\n",
        "print(\" \" * ((x - 2) // 2) + \"XX\")\n",
        "\n",
        "for i in range(3, x + 1, 2):\n",
        "    print(\" \" * ((x - i) // 2) + \"X\" * i)"
      ],
      "metadata": {
        "id": "a1jb3aQHN08y",
        "outputId": "fbd0543e-080d-4a7f-e87d-035a43b0eaaa",
        "colab": {
          "base_uri": "https://localhost:8080/"
        }
      },
      "execution_count": 17,
      "outputs": [
        {
          "output_type": "stream",
          "name": "stdout",
          "text": [
            "Digite o valor de X: 55\n",
            "                           X\n",
            "                          XXX\n",
            "                         XXXXX\n",
            "                        XXXXXXX\n",
            "                       XXXXXXXXX\n",
            "                      XXXXXXXXXXX\n",
            "                     XXXXXXXXXXXXX\n",
            "                    XXXXXXXXXXXXXXX\n",
            "                   XXXXXXXXXXXXXXXXX\n",
            "                  XXXXXXXXXXXXXXXXXXX\n",
            "                 XXXXXXXXXXXXXXXXXXXXX\n",
            "                XXXXXXXXXXXXXXXXXXXXXXX\n",
            "               XXXXXXXXXXXXXXXXXXXXXXXXX\n",
            "              XXXXXXXXXXXXXXXXXXXXXXXXXXX\n",
            "             XXXXXXXXXXXXXXXXXXXXXXXXXXXXX\n",
            "            XXXXXXXXXXXXXXXXXXXXXXXXXXXXXXX\n",
            "           XXXXXXXXXXXXXXXXXXXXXXXXXXXXXXXXX\n",
            "          XXXXXXXXXXXXXXXXXXXXXXXXXXXXXXXXXXX\n",
            "         XXXXXXXXXXXXXXXXXXXXXXXXXXXXXXXXXXXXX\n",
            "        XXXXXXXXXXXXXXXXXXXXXXXXXXXXXXXXXXXXXXX\n",
            "       XXXXXXXXXXXXXXXXXXXXXXXXXXXXXXXXXXXXXXXXX\n",
            "      XXXXXXXXXXXXXXXXXXXXXXXXXXXXXXXXXXXXXXXXXXX\n",
            "     XXXXXXXXXXXXXXXXXXXXXXXXXXXXXXXXXXXXXXXXXXXXX\n",
            "    XXXXXXXXXXXXXXXXXXXXXXXXXXXXXXXXXXXXXXXXXXXXXXX\n",
            "   XXXXXXXXXXXXXXXXXXXXXXXXXXXXXXXXXXXXXXXXXXXXXXXXX\n",
            "  XXXXXXXXXXXXXXXXXXXXXXXXXXXXXXXXXXXXXXXXXXXXXXXXXXX\n",
            " XXXXXXXXXXXXXXXXXXXXXXXXXXXXXXXXXXXXXXXXXXXXXXXXXXXXX\n",
            "XXXXXXXXXXXXXXXXXXXXXXXXXXXXXXXXXXXXXXXXXXXXXXXXXXXXXXX\n",
            "                          XX\n",
            "                          XX\n",
            "                          XXX\n",
            "                         XXXXX\n",
            "                        XXXXXXX\n",
            "                       XXXXXXXXX\n",
            "                      XXXXXXXXXXX\n",
            "                     XXXXXXXXXXXXX\n",
            "                    XXXXXXXXXXXXXXX\n",
            "                   XXXXXXXXXXXXXXXXX\n",
            "                  XXXXXXXXXXXXXXXXXXX\n",
            "                 XXXXXXXXXXXXXXXXXXXXX\n",
            "                XXXXXXXXXXXXXXXXXXXXXXX\n",
            "               XXXXXXXXXXXXXXXXXXXXXXXXX\n",
            "              XXXXXXXXXXXXXXXXXXXXXXXXXXX\n",
            "             XXXXXXXXXXXXXXXXXXXXXXXXXXXXX\n",
            "            XXXXXXXXXXXXXXXXXXXXXXXXXXXXXXX\n",
            "           XXXXXXXXXXXXXXXXXXXXXXXXXXXXXXXXX\n",
            "          XXXXXXXXXXXXXXXXXXXXXXXXXXXXXXXXXXX\n",
            "         XXXXXXXXXXXXXXXXXXXXXXXXXXXXXXXXXXXXX\n",
            "        XXXXXXXXXXXXXXXXXXXXXXXXXXXXXXXXXXXXXXX\n",
            "       XXXXXXXXXXXXXXXXXXXXXXXXXXXXXXXXXXXXXXXXX\n",
            "      XXXXXXXXXXXXXXXXXXXXXXXXXXXXXXXXXXXXXXXXXXX\n",
            "     XXXXXXXXXXXXXXXXXXXXXXXXXXXXXXXXXXXXXXXXXXXXX\n",
            "    XXXXXXXXXXXXXXXXXXXXXXXXXXXXXXXXXXXXXXXXXXXXXXX\n",
            "   XXXXXXXXXXXXXXXXXXXXXXXXXXXXXXXXXXXXXXXXXXXXXXXXX\n",
            "  XXXXXXXXXXXXXXXXXXXXXXXXXXXXXXXXXXXXXXXXXXXXXXXXXXX\n",
            " XXXXXXXXXXXXXXXXXXXXXXXXXXXXXXXXXXXXXXXXXXXXXXXXXXXXX\n",
            "XXXXXXXXXXXXXXXXXXXXXXXXXXXXXXXXXXXXXXXXXXXXXXXXXXXXXXX\n"
          ]
        }
      ]
    },
    {
      "cell_type": "code",
      "source": [
        "# ATIVIDADE 7"
      ],
      "metadata": {
        "id": "dd33KUHIN4NK"
      },
      "execution_count": null,
      "outputs": []
    },
    {
      "cell_type": "code",
      "source": [
        "#A) \n",
        "\n",
        "print  (17 / 4 + 3.2)\n",
        "\n",
        "#B)\n",
        "\n",
        "print (17 * 3.2 ** 6)\n",
        "\n",
        "#C)\n",
        "print(17 % 4)\n",
        "print(3.2)\n",
        "print(3 * 10 )\n",
        "print(30 // 4)\n",
        "\n",
        "#D)\n",
        "print(17 / 6)\n",
        "print(17 / 3)\n",
        "print(2 // 5)\n",
        "print(0 + 4)"
      ],
      "metadata": {
        "id": "w5gzRe8yN4RJ",
        "outputId": "149d1c6e-c9b7-4eab-dccf-6f556ee8b2bc",
        "colab": {
          "base_uri": "https://localhost:8080/"
        }
      },
      "execution_count": 49,
      "outputs": [
        {
          "output_type": "stream",
          "name": "stdout",
          "text": [
            "7.45\n",
            "18253.611008000007\n",
            "1\n",
            "3.2\n",
            "30\n",
            "7\n",
            "2.8333333333333335\n",
            "5.666666666666667\n",
            "0\n",
            "4\n"
          ]
        }
      ]
    },
    {
      "cell_type": "code",
      "source": [
        "n = int(input(\"Digite o número de termos da PA: \"))\n",
        "a1 = float(input(\"Digite o valor inicial da PA: \"))\n",
        "an = float(input(\"Digite o valor final da PA: \"))\n",
        "\n",
        "soma = n * (a1 + an) / 2\n",
        "\n",
        "print(\"A soma dos termos da PA é:\", soma)"
      ],
      "metadata": {
        "id": "RAoACOf5N4VZ",
        "outputId": "1b6badcb-7f10-47a2-d97d-80930fe69c29",
        "colab": {
          "base_uri": "https://localhost:8080/"
        }
      },
      "execution_count": 50,
      "outputs": [
        {
          "output_type": "stream",
          "name": "stdout",
          "text": [
            "Digite o número de termos da PA: 5\n",
            "Digite o valor inicial da PA: 2.5\n",
            "Digite o valor final da PA: 10\n",
            "A soma dos termos da PA é: 31.25\n"
          ]
        }
      ]
    },
    {
      "cell_type": "code",
      "source": [
        "a1 = float(input(\"Digite o valor inicial (a1): \"))\n",
        "n = int(input(\"Digite a quantidade de termos (n): \"))\n",
        "q = float(input(\"Digite a razão (q >= 2): \"))\n",
        "\n",
        "if q < 2:\n",
        "    print(\"A razão deve ser maior ou igual a 2.\")\n",
        "else:\n",
        "    Sn = a1 * (q**n - 1) / (q - 1)\n",
        "    print(f\"A soma dos {n} termos da PG é {Sn}.\")"
      ],
      "metadata": {
        "id": "x0oFNB5EN4ZT",
        "outputId": "1c6adad5-9598-413d-d154-12068960c015",
        "colab": {
          "base_uri": "https://localhost:8080/"
        }
      },
      "execution_count": 51,
      "outputs": [
        {
          "output_type": "stream",
          "name": "stdout",
          "text": [
            "Digite o valor inicial (a1): 8\n",
            "Digite a quantidade de termos (n): 20\n",
            "Digite a razão (q >= 2): 2\n",
            "A soma dos 20 termos da PG é 8388600.0.\n"
          ]
        }
      ]
    },
    {
      "cell_type": "code",
      "source": [
        "import datetime\n",
        "\n",
        "ano_atual = datetime.date.today().year\n",
        "\n",
        "ano_nascimento = int(input(\"Digite o ano de nascimento: \"))\n",
        "\n",
        "idade = ano_atual - ano_nascimento\n",
        "\n",
        "if idade >= 16:\n",
        "    print(\"Você pode votar este ano!\")\n",
        "else:\n",
        "    print(\"Você ainda não pode votar este ano.\")"
      ],
      "metadata": {
        "id": "a34Vk3kXN4fB",
        "outputId": "1392b9e7-d93b-4641-a6cc-c5a54207fc36",
        "colab": {
          "base_uri": "https://localhost:8080/"
        }
      },
      "execution_count": 52,
      "outputs": [
        {
          "output_type": "stream",
          "name": "stdout",
          "text": [
            "Digite o ano de nascimento: 2003\n",
            "Você pode votar este ano!\n"
          ]
        }
      ]
    },
    {
      "cell_type": "code",
      "source": [
        "senha = input(\"Digite a senha: \")\n",
        "\n",
        "if senha == \"8765\":\n",
        "    print(\"A senha é válida.\")\n",
        "else:\n",
        "    print(\"A senha é inválida.\")"
      ],
      "metadata": {
        "id": "pbyqyTnyTfoE",
        "outputId": "94f12c46-fef0-454e-d8fb-91619be10aa2",
        "colab": {
          "base_uri": "https://localhost:8080/"
        }
      },
      "execution_count": 53,
      "outputs": [
        {
          "output_type": "stream",
          "name": "stdout",
          "text": [
            "Digite a senha: 809201\n",
            "A senha é inválida.\n"
          ]
        }
      ]
    },
    {
      "cell_type": "code",
      "source": [
        "sexo = int(input(\"Digite o sexo (1 - feminino ou 2 - masculino): \"))\n",
        "altura = float(input(\"Digite a altura em metros: \"))\n",
        "\n",
        "if sexo == 1:\n",
        "    peso_ideal = 62.1 * altura - 44.7\n",
        "elif sexo == 2:\n",
        "    peso_ideal = 72.7 * altura - 58\n",
        "else:\n",
        "    print(\"Opção inválida. Digite 1 para feminino ou 2 para masculino.\")\n",
        "    peso_ideal = None\n",
        "\n",
        "if peso_ideal:\n",
        "    print(\"O peso ideal é:\", peso_ideal, \"kg\")"
      ],
      "metadata": {
        "id": "viWSlVJLTfxK",
        "outputId": "ec6bc423-1583-438f-81f7-26cafac6a59a",
        "colab": {
          "base_uri": "https://localhost:8080/"
        }
      },
      "execution_count": 58,
      "outputs": [
        {
          "output_type": "stream",
          "name": "stdout",
          "text": [
            "Digite o sexo (1 - feminino ou 2 - masculino): 2\n",
            "Digite a altura em metros: 1.74\n",
            "O peso ideal é: 68.498 kg\n"
          ]
        }
      ]
    },
    {
      "cell_type": "code",
      "source": [
        "import math\n",
        "\n",
        "n = int(input(\"Digite o número de lados do polígono: \"))\n",
        "\n",
        "if n == 3:\n",
        " \n",
        "    lado = float(input(\"Digite a medida do lado do triângulo: \"))\n",
        "\n",
        "    area = (lado ** 2 * math.sqrt(3)) / 4\n",
        "    print(\"TRIÂNGULO, área:\", area)\n",
        "elif n == 4:\n",
        "\n",
        "    lado = float(input(\"Digite a medida do lado do quadrado: \"))\n",
        "\n",
        "    area = lado ** 2\n",
        "    print(\"QUADRADO, área:\", area)\n",
        "elif n == 5:\n",
        "    print(\"PENTÁGONO\")\n",
        "else:\n",
        "    print(\"Polígono não suportado\")"
      ],
      "metadata": {
        "id": "AHZOU1XCTf-R",
        "outputId": "a5552721-2bcc-4cbb-8a0e-7e070b6f9884",
        "colab": {
          "base_uri": "https://localhost:8080/"
        }
      },
      "execution_count": 61,
      "outputs": [
        {
          "output_type": "stream",
          "name": "stdout",
          "text": [
            "Digite o número de lados do polígono: 3\n",
            "Digite a medida do lado do triângulo: 4\n",
            "TRIÂNGULO, área: 6.928203230275509\n"
          ]
        }
      ]
    },
    {
      "cell_type": "code",
      "source": [
        "num_lados = int(input(\"Digite o número de lados do polígono regular: \"))\n",
        "\n",
        "if num_lados < 3:\n",
        "    print(\"NÃO É UM POLÍGONO.\")\n",
        "elif num_lados == 3:\n",
        "    base = float(input(\"Digite o valor da base do triângulo: \"))\n",
        "    altura = float(input(\"Digite o valor da altura do triângulo: \"))\n",
        "    area = (base * altura) / 2\n",
        "    print(\"TRIÂNGULO, área =\", area)\n",
        "elif num_lados == 4:\n",
        "    lado = float(input(\"Digite o valor do lado do quadrado: \"))\n",
        "    area = lado ** 2\n",
        "    print(\"QUADRADO, área =\", area)\n",
        "elif num_lados == 5:\n",
        "    print(\"PENTÁGONO\")\n",
        "else:\n",
        "    print(\"POLÍGONO NÃO IDENTIFICADO\")"
      ],
      "metadata": {
        "id": "1Iq-pEkETgHY",
        "outputId": "f27a8947-1025-4003-8ea0-d003568e8e40",
        "colab": {
          "base_uri": "https://localhost:8080/"
        }
      },
      "execution_count": 62,
      "outputs": [
        {
          "output_type": "stream",
          "name": "stdout",
          "text": [
            "Digite o número de lados do polígono regular: 5\n",
            "PENTÁGONO\n"
          ]
        }
      ]
    }
  ]
}